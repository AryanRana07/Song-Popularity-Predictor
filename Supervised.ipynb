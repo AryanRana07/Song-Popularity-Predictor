{
 "cells": [
  {
   "cell_type": "code",
   "execution_count": 1,
   "metadata": {},
   "outputs": [],
   "source": [
    "import pandas as pd\n",
    "from sklearn.model_selection import train_test_split\n",
    "from sklearn.preprocessing import LabelEncoder, StandardScaler\n",
    "from sklearn.ensemble import RandomForestClassifier\n",
    "from sklearn.metrics import accuracy_score, classification_report\n",
    "from sklearn.tree import plot_tree\n",
    "import matplotlib.pyplot as plt\n"
   ]
  },
  {
   "cell_type": "code",
   "execution_count": null,
   "metadata": {},
   "outputs": [],
   "source": [
    "\n",
    "# Read the dataset\n",
    "kpop_top1000_tracks = pd.read_csv(\"kpop_top1000_tracks.csv\")\n",
    "\n",
    "# Drop unnecessary columns (e.g., song_name, album_name, etc.)\n",
    "kpop_top1000_tracks = kpop_top1000_tracks.drop(['song_name', 'album_name', 'album_link', 'artist_name', 'song_link'], axis=1)\n",
    "\n",
    "# Convert categorical data to numerical using label encoding (explicit column)\n",
    "label_encoder = LabelEncoder()\n",
    "kpop_top1000_tracks['explicit'] = label_encoder.fit_transform(kpop_top1000_tracks['explicit'])\n",
    "\n",
    "# Convert the 'release_date' column to a datetime object for further processing\n",
    "kpop_top1000_tracks['release_date'] = pd.to_datetime(kpop_top1000_tracks['release_date'], errors='coerce')\n",
    "\n",
    "# Extract the year, month, and day of the week from the 'release_date' column\n",
    "kpop_top1000_tracks['release_year'] = kpop_top1000_tracks['release_date'].dt.year\n",
    "kpop_top1000_tracks['release_month'] = kpop_top1000_tracks['release_date'].dt.month\n",
    "kpop_top1000_tracks['release_dayofweek'] = kpop_top1000_tracks['release_date'].dt.dayofweek\n",
    "\n",
    "# Drop the original 'release_date' column and any rows with invalid date values (NaT)\n",
    "kpop_top1000_tracks = kpop_top1000_tracks.drop(['release_date'], axis=1).dropna()\n",
    "\n",
    "# Split the data into features (X) and target (y)\n",
    "features = ['duration_ms', 'explicit', 'release_year', 'release_month', 'release_dayofweek']\n",
    "target = 'popularity'\n",
    "\n",
    "X = kpop_top1000_tracks[features]\n",
    "y = kpop_top1000_tracks[target]\n",
    "\n",
    "# Standardize the numerical features for better model performance\n",
    "scaler = StandardScaler()\n",
    "X_scaled = scaler.fit_transform(X)\n"
   ]
  }
 ],
 "metadata": {
  "kernelspec": {
   "display_name": "Python 3",
   "language": "python",
   "name": "python3"
  },
  "language_info": {
   "codemirror_mode": {
    "name": "ipython",
    "version": 3
   },
   "file_extension": ".py",
   "mimetype": "text/x-python",
   "name": "python",
   "nbconvert_exporter": "python",
   "pygments_lexer": "ipython3",
   "version": "3.11.3"
  },
  "orig_nbformat": 4
 },
 "nbformat": 4,
 "nbformat_minor": 2
}
